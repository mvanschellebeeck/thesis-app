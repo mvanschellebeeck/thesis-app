{
 "cells": [
  {
   "cell_type": "code",
   "execution_count": 1,
   "metadata": {},
   "outputs": [],
   "source": [
    "import pandas as pd"
   ]
  },
  {
   "cell_type": "code",
   "execution_count": 2,
   "metadata": {
    "scrolled": true
   },
   "outputs": [
    {
     "name": "stderr",
     "output_type": "stream",
     "text": [
      "/usr/lib/python3.7/site-packages/IPython/core/interactiveshell.py:3058: DtypeWarning: Columns (1) have mixed types. Specify dtype option on import or set low_memory=False.\n",
      "  interactivity=interactivity, compiler=compiler, result=result)\n"
     ]
    }
   ],
   "source": [
    "bores = pd.read_csv('NGIS_Bore.csv', usecols=[\n",
    "    'HydroID',\n",
    "    'HydroCode',\n",
    "    'StateTerritory',\n",
    "    'BoreDepth',\n",
    "    'DrilledDate',\n",
    "    'Latitude',\n",
    "    'Longitude',\n",
    "    'LandElev',\n",
    "    'FTypeClass' # commerical, industrial, domestic etc..\n",
    "])\n",
    "\n",
    "# JOIN ON HYDRO ID ONLY???\n"
   ]
  },
  {
   "cell_type": "code",
   "execution_count": 3,
   "metadata": {},
   "outputs": [],
   "source": [
    "bores = bores.rename(columns={\n",
    "    'HydroID': 'hydro_id',\n",
    "    'HydroCode': 'hydro_code',\n",
    "    'StateTerritory': 'state',\n",
    "    'BoreDepth': 'bore_depth',\n",
    "    'DrilledDate': 'drilled_date',\n",
    "    'Latitude': 'lat',\n",
    "    'Longitude': 'long',\n",
    "    'LandElev': 'land_elevation',\n",
    "    'FTypeClass': 'type_of_use'\n",
    "})\n",
    "\n",
    "#bores.set_index(['bore_id', 'state', 'hydro_id'], inplace=True, verify_integrity=True)"
   ]
  },
  {
   "cell_type": "code",
   "execution_count": 4,
   "metadata": {},
   "outputs": [],
   "source": [
    "bores.set_index('hydro_id', inplace=True, verify_integrity=True)"
   ]
  },
  {
   "cell_type": "code",
   "execution_count": 8,
   "metadata": {},
   "outputs": [
    {
     "name": "stdout",
     "output_type": "stream",
     "text": [
      "Working on NSW\n",
      "Working on QLD\n",
      "Working on NT\n",
      "Working on SA\n",
      "Working on TAS\n",
      "Working on VIC\n",
      "Working on WA\n"
     ]
    }
   ],
   "source": [
    "for state in ['NSW', 'QLD', 'NT', 'SA', 'TAS', 'VIC', 'WA']:\n",
    "    print(f'Working on {state}')\n",
    "    ## SALINITY\n",
    "    salinity = pd.read_csv(f'{state}/salinity_{state}.csv', usecols=[\n",
    "        'hydroid', 'bore_id', 'bore_date', 'uom', 'result'\n",
    "    ])\n",
    "    salinity = salinity.rename(columns={\n",
    "        'hydroid': 'hydro_id',\n",
    "        'bore_date': 'last_salinity_measurement'\n",
    "    })\n",
    "    # only take latest salinity measurements\n",
    "    salinity = salinity.sort_values('last_salinity_measurement', ascending=False).drop_duplicates('hydro_id')\n",
    "    salinity.set_index('hydro_id', inplace=True, verify_integrity=True)\n",
    "    \n",
    "    df = salinity.merge(bores, on='hydro_id', how='left')\n",
    "    \n",
    "    ## LEVELS\n",
    "    levels = pd.read_csv(f'{state}/level_{state}.csv', usecols=[\n",
    "        'hydroid', 'bore_id', 'bore_date', 'obs_point_datum', 'result'\n",
    "    ]) \n",
    "    \n",
    "    levels = levels.rename(columns={\n",
    "        'hydroid': 'hydro_id',\n",
    "        'bore_date': 'last_level_measurement'\n",
    "    })\n",
    "    \n",
    "    levels = levels.sort_values('last_level_measurement', ascending=False).drop_duplicates('hydro_id')\n",
    "    df2 = df.merge(levels, on='bore_id', how='left')\n",
    "    df2.to_csv(f'output_{state}.csv', index=False)\n",
    "    df2 = df2.fillna('')\n",
    "    df_to_geojson(state, df2)\n",
    "\n",
    "    \n",
    "    "
   ]
  },
  {
   "cell_type": "code",
   "execution_count": 6,
   "metadata": {},
   "outputs": [],
   "source": [
    "import geojson"
   ]
  },
  {
   "cell_type": "code",
   "execution_count": 7,
   "metadata": {},
   "outputs": [],
   "source": [
    "def df_to_geojson(name, df):\n",
    "    old_df = df\n",
    "    features = []\n",
    "    simple_features = []\n",
    "    insert_features = lambda X: features.append(\n",
    "            geojson.Feature(geometry=geojson.Point((X[\"long\"],\n",
    "                                                    X[\"lat\"])),\n",
    "                            properties=dict(id=X[\"bore_id\"], \n",
    "                                            icon=\"drinking-water-15\", \n",
    "                                            last_salinity_measurement=X[\"last_salinity_measurement\"],\n",
    "                                            salinity_uom=X[\"uom\"],\n",
    "                                            salinity=X[\"result_x\"],\n",
    "                                            bore_depth=X[\"bore_depth\"],\n",
    "                                            drilled_date=X[\"drilled_date\"],\n",
    "                                            land_elevation=X[\"land_elevation\"],\n",
    "                                            type_of_use=X[\"type_of_use\"],\n",
    "                                            last_level_measurement=X[\"last_level_measurement\"],\n",
    "                                            obs_point_datum=X[\"obs_point_datum\"],\n",
    "                                            level=X[\"result_y\"]\n",
    "                                           )))\n",
    "    insert_features_simple = lambda X: simple_features.append(\n",
    "        geojson.Feature(geometry=geojson.Point((X[\"long\"],\n",
    "                                                X[\"lat\"])),\n",
    "                        properties=dict(id=X[\"bore_id\"], icon=\"drinking-water-15\")\n",
    "                       )\n",
    "    )\n",
    "\n",
    "    df.apply(insert_features, axis=1)\n",
    "    old_df.apply(insert_features_simple, axis=1)\n",
    "    \n",
    "\n",
    "    with open(f'{name}.geojson', 'w', encoding='utf8') as fp:\n",
    "        geojson.dump(geojson.FeatureCollection(features), fp, sort_keys=True, ensure_ascii=False)\n",
    "        \n",
    "    with open(f'{name}_simple.geojson', 'w', encoding='utf8') as fp:\n",
    "        geojson.dump(geojson.FeatureCollection(simple_features), fp, sort_keys=True, ensure_ascii=False)"
   ]
  }
 ],
 "metadata": {
  "kernelspec": {
   "display_name": "Python 3",
   "language": "python",
   "name": "python3"
  },
  "language_info": {
   "codemirror_mode": {
    "name": "ipython",
    "version": 3
   },
   "file_extension": ".py",
   "mimetype": "text/x-python",
   "name": "python",
   "nbconvert_exporter": "python",
   "pygments_lexer": "ipython3",
   "version": "3.7.4"
  }
 },
 "nbformat": 4,
 "nbformat_minor": 2
}
